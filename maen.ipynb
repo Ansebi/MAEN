{
 "cells": [
  {
   "attachments": {},
   "cell_type": "markdown",
   "metadata": {},
   "source": [
    "# MAEN"
   ]
  },
  {
   "attachments": {},
   "cell_type": "markdown",
   "metadata": {},
   "source": [
    "Mean Absolute Error Normalised"
   ]
  },
  {
   "cell_type": "code",
   "execution_count": 1,
   "metadata": {},
   "outputs": [],
   "source": [
    "import numpy as np\n",
    "from maen_score import maen_score"
   ]
  },
  {
   "cell_type": "code",
   "execution_count": 2,
   "metadata": {},
   "outputs": [
    {
     "data": {
      "text/plain": [
       "0.4935382204764351"
      ]
     },
     "execution_count": 2,
     "metadata": {},
     "output_type": "execute_result"
    }
   ],
   "source": [
    "y_train = np.random.normal(0, 0.001, 800000)\n",
    "y_test = np.random.normal(0, 0.001, 200000)\n",
    "y_pred = y_test + 0.005\n",
    "maen_score(y_test, y_pred, y_train.min(), y_train.max())"
   ]
  },
  {
   "cell_type": "code",
   "execution_count": 3,
   "metadata": {},
   "outputs": [
    {
     "data": {
      "text/plain": [
       "1.0023469387755102"
      ]
     },
     "execution_count": 3,
     "metadata": {},
     "output_type": "execute_result"
    }
   ],
   "source": [
    "y_train = np.random.randint(1, 100, 800)\n",
    "y_test = np.random.randint(1, 100, 200)\n",
    "y_pred = y_test * 2 + 50\n",
    "maen_score(y_test, y_pred, y_train.min(), y_train.max())"
   ]
  },
  {
   "cell_type": "code",
   "execution_count": 4,
   "metadata": {},
   "outputs": [
    {
     "data": {
      "text/plain": [
       "0.5051020408163266"
      ]
     },
     "execution_count": 4,
     "metadata": {},
     "output_type": "execute_result"
    }
   ],
   "source": [
    "y_train = np.arange(1, 100)\n",
    "y_test = np.arange(30, 70)\n",
    "y_pred = (y_test * 2 + 50  / 1000) * 0\n",
    "maen_score(y_test, y_pred, y_train.min(), y_train.max())"
   ]
  },
  {
   "cell_type": "code",
   "execution_count": 5,
   "metadata": {},
   "outputs": [
    {
     "data": {
      "text/plain": [
       "0.5"
      ]
     },
     "execution_count": 5,
     "metadata": {},
     "output_type": "execute_result"
    }
   ],
   "source": [
    "y_train = np.array([0, 2, 4, 6, 8, 10])\n",
    "y_test = np.array([10])\n",
    "y_pred = np.array([5])\n",
    "maen_score(y_test, y_pred, y_train.min(), y_train.max())"
   ]
  },
  {
   "attachments": {},
   "cell_type": "markdown",
   "metadata": {},
   "source": [
    "Using train data for reference is not strictly enforced.<br>\n",
    "Use any reasonable min_ and max_ values adequate to the situation."
   ]
  },
  {
   "attachments": {},
   "cell_type": "markdown",
   "metadata": {},
   "source": [
    "# Get Acquainted Yourself"
   ]
  },
  {
   "cell_type": "code",
   "execution_count": null,
   "metadata": {},
   "outputs": [],
   "source": [
    "import urllib\n",
    "urllib.request.urlretrieve(\n",
    "    'https://github.com/Ansebi/maen/blob/main/maen_score.py?raw=true',\n",
    "    'maen_score.py'\n",
    ")\n",
    "from maen_score import np, maen_score\n",
    "\n",
    "\n",
    "'''\n",
    "y_train = np.random.normal(0, 0.00001, 100)\n",
    "y_test = np.random.normal(0, 0.00001, 10)\n",
    "y_pred = np.random.normal(0, 0.00001, 10)\n",
    "'''\n",
    "y_train: np.array = ...\n",
    "y_test: np.array = ...\n",
    "y_pred: np.array = ...\n",
    "\n",
    "maen = maen_score(y_test, y_pred, y_train.min(), y_train.max())\n",
    "\n",
    "[print(i) for i in zip(y_test, y_pred)]\n",
    "print(f'{maen = :.2f}')"
   ]
  }
 ],
 "metadata": {
  "kernelspec": {
   "display_name": "Python 3",
   "language": "python",
   "name": "python3"
  },
  "language_info": {
   "codemirror_mode": {
    "name": "ipython",
    "version": 3
   },
   "file_extension": ".py",
   "mimetype": "text/x-python",
   "name": "python",
   "nbconvert_exporter": "python",
   "pygments_lexer": "ipython3",
   "version": "3.11.1"
  },
  "orig_nbformat": 4
 },
 "nbformat": 4,
 "nbformat_minor": 2
}
